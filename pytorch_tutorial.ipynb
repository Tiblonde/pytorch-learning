{
  "nbformat": 4,
  "nbformat_minor": 0,
  "metadata": {
    "colab": {
      "provenance": [],
      "collapsed_sections": [
        "KhirC6RkJEoK",
        "CRosmDwMHU_p",
        "jFFViVcqJPNY",
        "V8ZolUFN1he_"
      ],
      "authorship_tag": "ABX9TyPhopuKiJPrgqRToqH4Oaem",
      "include_colab_link": true
    },
    "kernelspec": {
      "name": "python3",
      "display_name": "Python 3"
    },
    "language_info": {
      "name": "python"
    }
  },
  "cells": [
    {
      "cell_type": "markdown",
      "metadata": {
        "id": "view-in-github",
        "colab_type": "text"
      },
      "source": [
        "<a href=\"https://colab.research.google.com/github/Tiblonde/pytorch-learning/blob/main/pytorch_tutorial.ipynb\" target=\"_parent\"><img src=\"https://colab.research.google.com/assets/colab-badge.svg\" alt=\"Open In Colab\"/></a>"
      ]
    },
    {
      "cell_type": "markdown",
      "source": [
        "# 1.Tensor"
      ],
      "metadata": {
        "id": "KhirC6RkJEoK"
      }
    },
    {
      "cell_type": "markdown",
      "source": [
        "## 1.1如何初始化一个张量"
      ],
      "metadata": {
        "id": "DShen3171-Lk"
      }
    },
    {
      "cell_type": "code",
      "execution_count": null,
      "metadata": {
        "id": "uqfIWNx81Vku"
      },
      "outputs": [],
      "source": [
        "import torch\n",
        "import numpy as np"
      ]
    },
    {
      "cell_type": "code",
      "source": [
        "data = [[1, 2],[3, 4]] # 1.直接从Data创建张量\n",
        "x_data = torch.tensor(data)"
      ],
      "metadata": {
        "id": "Zx3I93Aw17ad"
      },
      "execution_count": null,
      "outputs": []
    },
    {
      "cell_type": "code",
      "source": [
        "np_array = np.array(data) # 2.从numpy_array创建\n",
        "x_np = torch.from_numpy(np_array)"
      ],
      "metadata": {
        "id": "ApcipcB34Lu6"
      },
      "execution_count": null,
      "outputs": []
    },
    {
      "cell_type": "code",
      "source": [
        "x_ones = torch.ones_like(x_data)  # 3.1 从张量创建将保留传入张量的属性，全1张量\n",
        "print(f\"ones Tensor: \\n {x_ones} \\n\")\n",
        "x_rand = torch.rand_like(x_data,dtype=torch.float)  # 3.2 让张量保留另一个张量的属性，随机张量\n",
        "print(f\"Random Tensor: \\n {x_rand} \\n\")"
      ],
      "metadata": {
        "colab": {
          "base_uri": "https://localhost:8080/"
        },
        "id": "7t_d8B_Q4M3H",
        "outputId": "3bff5ee2-4775-4528-ea46-d8c5c05d48ff"
      },
      "execution_count": null,
      "outputs": [
        {
          "output_type": "stream",
          "name": "stdout",
          "text": [
            "ones Tensor: \n",
            " tensor([[1, 1],\n",
            "        [1, 1]]) \n",
            "\n",
            "Random Tensor: \n",
            " tensor([[0.9249, 0.2942],\n",
            "        [0.6490, 0.4165]]) \n",
            "\n"
          ]
        }
      ]
    },
    {
      "cell_type": "code",
      "source": [
        "shape = (2, 3, )  # 4.通过张量维度--形式上是元组--创建\n",
        "rand_tensor = torch.rand(shape)\n",
        "ones_tensor = torch.ones(shape)\n",
        "zeros_tensor = torch.zeros(shape)\n",
        "\n",
        "print(f\"Random Tensor: \\n {rand_tensor} \\n\")\n",
        "print(f\"Ones Tensor: \\n {ones_tensor} \\n\")\n",
        "print(f\"Zeros Tensor: \\n {zeros_tensor} \\n\")"
      ],
      "metadata": {
        "id": "KG0snDPw4Xk8",
        "colab": {
          "base_uri": "https://localhost:8080/"
        },
        "outputId": "30a27a8b-1937-4170-95f4-4f32a15e3dde"
      },
      "execution_count": null,
      "outputs": [
        {
          "output_type": "stream",
          "name": "stdout",
          "text": [
            "Random Tensor: \n",
            " tensor([[0.4156, 0.0561, 0.5511],\n",
            "        [0.6648, 0.2312, 0.1398]]) \n",
            "\n",
            "Ones Tensor: \n",
            " tensor([[1., 1., 1.],\n",
            "        [1., 1., 1.]]) \n",
            "\n",
            "Zeros Tensor: \n",
            " tensor([[0., 0., 0.],\n",
            "        [0., 0., 0.]]) \n",
            "\n"
          ]
        }
      ]
    },
    {
      "cell_type": "markdown",
      "source": [
        "## 1.2 张量的属性（attributes）"
      ],
      "metadata": {
        "id": "hyGw0yLy7dpr"
      }
    },
    {
      "cell_type": "code",
      "source": [
        "#tensor = torch.rand((3,4))\n",
        "tensor = torch.rand(3,4)\n",
        "\n",
        "print(f\"Shape of tensor: {tensor.shape}\")\n",
        "print(f\"Datatype of tensor:{tensor.dtype}\")\n",
        "print(f\"Device tensor is stored on: {tensor.device}\")"
      ],
      "metadata": {
        "id": "Gv7noY1u6bDm",
        "colab": {
          "base_uri": "https://localhost:8080/"
        },
        "outputId": "4f22bcd1-fc62-4efb-a605-42880d210bc9"
      },
      "execution_count": null,
      "outputs": [
        {
          "output_type": "stream",
          "name": "stdout",
          "text": [
            "Shape of tensor: torch.Size([3, 4])\n",
            "Datatype of tensor:torch.float32\n",
            "Device tensor is stored on: cpu\n"
          ]
        }
      ]
    },
    {
      "cell_type": "markdown",
      "source": [
        "## 1.3 张量的（代数）运算\n",
        "\n",
        "\n",
        "张量有超过1200种运算，包括算数、线性代数、矩阵运算等。\n",
        "\n",
        "\n",
        "每种运算都可以在CPU或加速器上（CUDA、MPS、XPU等），Colab通过`代码执行程序>更改进行时类型>GPU`加速。"
      ],
      "metadata": {
        "id": "fIikZf8P8dO1"
      }
    },
    {
      "cell_type": "markdown",
      "source": [
        "\n",
        "张量默认在CPU上创建，可以显式使用`.to`将张量移动到加速器上。跨设备复制张量会相当浪费时间"
      ],
      "metadata": {
        "id": "3_3WCYjNOnYn"
      }
    },
    {
      "cell_type": "code",
      "source": [
        "# （当加速器可用时，将张量移动），这种写法不适用Colab（torch版本旧，需>=2.6.0）\n",
        "if torch.accelerator.is_available():\n",
        "  tensor = tensor.to(torch.accelerator.current_accelerator())"
      ],
      "metadata": {
        "colab": {
          "base_uri": "https://localhost:8080/",
          "height": 308
        },
        "id": "ygRzyONY84p4",
        "outputId": "7cb2e467-fcfa-403b-e914-28eb10346b53"
      },
      "execution_count": null,
      "outputs": [
        {
          "output_type": "error",
          "ename": "AttributeError",
          "evalue": "module 'torch' has no attribute 'accelerator'",
          "traceback": [
            "\u001b[0;31m---------------------------------------------------------------------------\u001b[0m",
            "\u001b[0;31mAttributeError\u001b[0m                            Traceback (most recent call last)",
            "\u001b[0;32m<ipython-input-9-fc9fc68f9738>\u001b[0m in \u001b[0;36m<cell line: 0>\u001b[0;34m()\u001b[0m\n\u001b[1;32m      1\u001b[0m \u001b[0;31m# （当加速器可用时，将张量移动）\u001b[0m\u001b[0;34m\u001b[0m\u001b[0;34m\u001b[0m\u001b[0m\n\u001b[0;32m----> 2\u001b[0;31m \u001b[0;32mif\u001b[0m \u001b[0mtorch\u001b[0m\u001b[0;34m.\u001b[0m\u001b[0maccelerator\u001b[0m\u001b[0;34m.\u001b[0m\u001b[0mis_available\u001b[0m\u001b[0;34m(\u001b[0m\u001b[0;34m)\u001b[0m\u001b[0;34m:\u001b[0m\u001b[0;34m\u001b[0m\u001b[0;34m\u001b[0m\u001b[0m\n\u001b[0m\u001b[1;32m      3\u001b[0m   \u001b[0mtensor\u001b[0m \u001b[0;34m=\u001b[0m \u001b[0mtensor\u001b[0m\u001b[0;34m.\u001b[0m\u001b[0mto\u001b[0m\u001b[0;34m(\u001b[0m\u001b[0mtorch\u001b[0m\u001b[0;34m.\u001b[0m\u001b[0maccelerator\u001b[0m\u001b[0;34m.\u001b[0m\u001b[0mcurrent_accelerator\u001b[0m\u001b[0;34m(\u001b[0m\u001b[0;34m)\u001b[0m\u001b[0;34m)\u001b[0m\u001b[0;34m\u001b[0m\u001b[0;34m\u001b[0m\u001b[0m\n",
            "\u001b[0;32m/usr/local/lib/python3.11/dist-packages/torch/__init__.py\u001b[0m in \u001b[0;36m__getattr__\u001b[0;34m(name)\u001b[0m\n\u001b[1;32m   2560\u001b[0m             \u001b[0;32mreturn\u001b[0m \u001b[0mimportlib\u001b[0m\u001b[0;34m.\u001b[0m\u001b[0mimport_module\u001b[0m\u001b[0;34m(\u001b[0m\u001b[0;34mf\".{name}\"\u001b[0m\u001b[0;34m,\u001b[0m \u001b[0m__name__\u001b[0m\u001b[0;34m)\u001b[0m\u001b[0;34m\u001b[0m\u001b[0;34m\u001b[0m\u001b[0m\n\u001b[1;32m   2561\u001b[0m \u001b[0;34m\u001b[0m\u001b[0m\n\u001b[0;32m-> 2562\u001b[0;31m         \u001b[0;32mraise\u001b[0m \u001b[0mAttributeError\u001b[0m\u001b[0;34m(\u001b[0m\u001b[0;34mf\"module '{__name__}' has no attribute '{name}'\"\u001b[0m\u001b[0;34m)\u001b[0m\u001b[0;34m\u001b[0m\u001b[0;34m\u001b[0m\u001b[0m\n\u001b[0m\u001b[1;32m   2563\u001b[0m \u001b[0;34m\u001b[0m\u001b[0m\n\u001b[1;32m   2564\u001b[0m \u001b[0;34m\u001b[0m\u001b[0m\n",
            "\u001b[0;31mAttributeError\u001b[0m: module 'torch' has no attribute 'accelerator'"
          ]
        }
      ]
    },
    {
      "cell_type": "code",
      "source": [
        "# （当加速器可用时，将张量移动）\n",
        "if torch.cuda.is_available():\n",
        "  cuda0 = torch.device('cuda:0')\n",
        "  tensor = tensor.to(cuda0)\n",
        "  print(f\"Cuda is supported and device of tensor is:\\n{tensor.device}\\n\")\n",
        "else:\n",
        "  print(\"Cuda is not supported.\")\n"
      ],
      "metadata": {
        "colab": {
          "base_uri": "https://localhost:8080/"
        },
        "id": "1Msa3TMoRT1T",
        "outputId": "302f05a1-133f-4375-9f99-406c911bcbd1"
      },
      "execution_count": null,
      "outputs": [
        {
          "output_type": "stream",
          "name": "stdout",
          "text": [
            "Cuda is supported and device of tensor is:\n",
            "cuda:0\n",
            "\n"
          ]
        }
      ]
    },
    {
      "cell_type": "code",
      "source": [
        "# 标准张量索引和切片运算（类似numpy）\n",
        "tensor = torch.ones(4, 4)\n",
        "print(f\"Device Tensor is stored on:{tensor.device}\")\n",
        "\n",
        "print(f\"First row: {tensor[0]}\")\n",
        "print(f\"First column: {tensor[:, 0]}\")\n",
        "print(f\"Last column: {tensor[..., -1]}\")\n",
        "tensor[:, 1] = 0\n",
        "print(tensor)\n"
      ],
      "metadata": {
        "colab": {
          "base_uri": "https://localhost:8080/"
        },
        "id": "Z2gnyH23BCiE",
        "outputId": "498e22af-88f1-435c-93d8-e63981723427"
      },
      "execution_count": null,
      "outputs": [
        {
          "output_type": "stream",
          "name": "stdout",
          "text": [
            "Device Tensor is stored on:cpu\n",
            "First row: tensor([1., 1., 1., 1.])\n",
            "First column: tensor([1., 1., 1., 1.])\n",
            "Last column: tensor([1., 1., 1., 1.])\n",
            "tensor([[1., 0., 1., 1.],\n",
            "        [1., 0., 1., 1.],\n",
            "        [1., 0., 1., 1.],\n",
            "        [1., 0., 1., 1.]])\n"
          ]
        }
      ]
    },
    {
      "cell_type": "code",
      "source": [
        "# 将张量按维度拼接\n",
        "t1 = torch.cat([tensor, tensor, tensor], dim=1)\n",
        "print(t1)"
      ],
      "metadata": {
        "colab": {
          "base_uri": "https://localhost:8080/"
        },
        "id": "ZGfBlONBDEqf",
        "outputId": "a46f7bd2-faa1-4cb3-c3db-b4d4b78baa6d"
      },
      "execution_count": null,
      "outputs": [
        {
          "output_type": "stream",
          "name": "stdout",
          "text": [
            "tensor([[1., 0., 1., 1., 1., 0., 1., 1., 1., 0., 1., 1.],\n",
            "        [1., 0., 1., 1., 1., 0., 1., 1., 1., 0., 1., 1.],\n",
            "        [1., 0., 1., 1., 1., 0., 1., 1., 1., 0., 1., 1.],\n",
            "        [1., 0., 1., 1., 1., 0., 1., 1., 1., 0., 1., 1.]])\n"
          ]
        }
      ]
    },
    {
      "cell_type": "code",
      "source": [
        "# 数值运算 矩阵相乘的三种写法\n",
        "# \"tensor.T\"返回张量的转置\n",
        "y1 = tensor @ tensor.T\n",
        "y2 = tensor.matmul(tensor.T)\n",
        "print(y1,\"\\n\",y2)\n",
        "\n",
        "y3 = torch.rand_like(y1)\n",
        "torch.matmul(tensor, tensor.T, out=y3)\n",
        "print(y3)\n"
      ],
      "metadata": {
        "colab": {
          "base_uri": "https://localhost:8080/"
        },
        "id": "ts8FdZrEDC8I",
        "outputId": "347e849f-ee0d-42ae-8ca7-3238a7f2bf72"
      },
      "execution_count": null,
      "outputs": [
        {
          "output_type": "stream",
          "name": "stdout",
          "text": [
            "tensor([[3., 3., 3., 3.],\n",
            "        [3., 3., 3., 3.],\n",
            "        [3., 3., 3., 3.],\n",
            "        [3., 3., 3., 3.]]) \n",
            " tensor([[3., 3., 3., 3.],\n",
            "        [3., 3., 3., 3.],\n",
            "        [3., 3., 3., 3.],\n",
            "        [3., 3., 3., 3.]])\n",
            "tensor([[0.9161, 0.2779, 0.7020, 0.2727],\n",
            "        [0.8724, 0.8306, 0.3199, 0.2655],\n",
            "        [0.1623, 0.4894, 0.2768, 0.7552],\n",
            "        [0.7842, 0.1561, 0.5433, 0.6520]])\n",
            "tensor([[3., 3., 3., 3.],\n",
            "        [3., 3., 3., 3.],\n",
            "        [3., 3., 3., 3.],\n",
            "        [3., 3., 3., 3.]])\n"
          ]
        }
      ]
    },
    {
      "cell_type": "code",
      "source": [
        "# 单元素的张量可以用\".item()\"转为python数值\n",
        "agg = tensor.sum()\n",
        "agg_item = agg.item()\n",
        "print(agg_item, type(agg_item))"
      ],
      "metadata": {
        "colab": {
          "base_uri": "https://localhost:8080/"
        },
        "id": "UPUaz7QQGHmN",
        "outputId": "47aefa62-1eec-4617-8068-1bebb869d884"
      },
      "execution_count": null,
      "outputs": [
        {
          "output_type": "stream",
          "name": "stdout",
          "text": [
            "12.0 <class 'float'>\n"
          ]
        }
      ]
    },
    {
      "cell_type": "code",
      "source": [
        "# 将结果存储到操作数中操作称为就地操作，用`_`后缀表示\n",
        "print(f\"{tensor} \\n\")\n",
        "tensor.add_(5)\n",
        "print(tensor)"
      ],
      "metadata": {
        "colab": {
          "base_uri": "https://localhost:8080/"
        },
        "id": "X-FtfjEeGu3s",
        "outputId": "b3b306af-55a6-4b62-fc48-a313e55242c3"
      },
      "execution_count": null,
      "outputs": [
        {
          "output_type": "stream",
          "name": "stdout",
          "text": [
            "tensor([[1., 0., 1., 1.],\n",
            "        [1., 0., 1., 1.],\n",
            "        [1., 0., 1., 1.],\n",
            "        [1., 0., 1., 1.]]) \n",
            "\n",
            "tensor([[6., 5., 6., 6.],\n",
            "        [6., 5., 6., 6.],\n",
            "        [6., 5., 6., 6.],\n",
            "        [6., 5., 6., 6.]])\n"
          ]
        }
      ]
    },
    {
      "cell_type": "markdown",
      "source": [
        "## 1.4 和Numpy的联结"
      ],
      "metadata": {
        "id": "CRosmDwMHU_p"
      }
    },
    {
      "cell_type": "markdown",
      "source": [
        "Tensors 在 CPU 上和 NumPy 数组可以共享其底层内存位置，改变一个会影响另一个"
      ],
      "metadata": {
        "id": "0MLtn33VHfm-"
      }
    },
    {
      "cell_type": "code",
      "source": [
        "t = torch.ones(5)\n",
        "print(f\"t:{t} \\n datatype of t: {t.dtype}\")\n",
        "n = t.numpy()\n",
        "print(f\"n:{n} \\n datatype of n: {n.dtype}\")"
      ],
      "metadata": {
        "colab": {
          "base_uri": "https://localhost:8080/"
        },
        "id": "tauxtsx9HTcG",
        "outputId": "eb3c3f4b-a7c1-43d7-cd00-eb392cc931df"
      },
      "execution_count": null,
      "outputs": [
        {
          "output_type": "stream",
          "name": "stdout",
          "text": [
            "t:tensor([1., 1., 1., 1., 1.]) \n",
            " datatype of t: torch.float32\n",
            "n:[1. 1. 1. 1. 1.] \n",
            " datatype of n: float32\n"
          ]
        }
      ]
    },
    {
      "cell_type": "code",
      "source": [
        "# 对tensor的运算将影响numpy中的array\n",
        "t.add_(1)\n",
        "print(f\"t: {t}\")\n",
        "print(f\"n: {n}\")"
      ],
      "metadata": {
        "colab": {
          "base_uri": "https://localhost:8080/"
        },
        "id": "MqTTlX5bICeK",
        "outputId": "b65411bb-228c-4e9d-dbb2-d4fa195bd9a7"
      },
      "execution_count": null,
      "outputs": [
        {
          "output_type": "stream",
          "name": "stdout",
          "text": [
            "t: tensor([2., 2., 2., 2., 2.])\n",
            "n: [2. 2. 2. 2. 2.]\n"
          ]
        }
      ]
    },
    {
      "cell_type": "code",
      "source": [
        "# 从numpy创建的tensor，改变numpy也影响tensor\n",
        "n = np.ones(5)\n",
        "t = torch.from_numpy(n)\n",
        "\n",
        "np.add(n,1,out=n)\n",
        "print(f\"t: {t}\")\n",
        "print(f\"n: {n}\")"
      ],
      "metadata": {
        "colab": {
          "base_uri": "https://localhost:8080/"
        },
        "id": "bS2TVR3jIaVH",
        "outputId": "d5e5fdd0-37cb-4d23-efdf-dba1ccf62866"
      },
      "execution_count": null,
      "outputs": [
        {
          "output_type": "stream",
          "name": "stdout",
          "text": [
            "t: tensor([2., 2., 2., 2., 2.], dtype=torch.float64)\n",
            "n: [2. 2. 2. 2. 2.]\n"
          ]
        }
      ]
    },
    {
      "cell_type": "markdown",
      "source": [
        "# 2.Datasets & DataLoaders"
      ],
      "metadata": {
        "id": "jFFViVcqJPNY"
      }
    },
    {
      "cell_type": "markdown",
      "source": [
        "PyTorch 提供了两个数据操作单元：`torch.utils.data.DataLoader`和`torch.utils.data.Dataset`，允许您使用预加载的数据集以及自己的数据。`Dataset`存储样本及其对应的标签，而`DataLoader`将`Dataset`分批次打包，形成一种可迭代对象，以方便访问样本。\n",
        "\n",
        "\n",
        "PyTorch领域库（像是图像领域、音频领域）提供了许多预加载的数据集（如 FashionMNIST），这些数据集继承自`torch.utils.data.Dataset`并实现了特定于数据的功能。它们可以用于**原型设计**和**模型基准测试**。您可以在以下位置找到它们：Image Datasets, Text Datasets, and Audio Datasets"
      ],
      "metadata": {
        "id": "m6HRWPv9KCDh"
      }
    },
    {
      "cell_type": "markdown",
      "source": [
        "## 2.1 加载数据集\n",
        "\n",
        "\n",
        "使用TorchVision加载Fashion-MNIST数据集：\n",
        "\n",
        "\n",
        "Fashion-MNIST是Zalando杂志的数字图片，包含60000个训练样本和10000个测试样本。每个样本包含28*28像素的灰度图像和1个标签（共10种标签）"
      ],
      "metadata": {
        "id": "dk4eL6g4LK_6"
      }
    },
    {
      "cell_type": "code",
      "source": [
        "import torch\n",
        "from torch.utils.data import Dataset\n",
        "from torchvision import datasets\n",
        "from torchvision.transforms import ToTensor\n",
        "import matplotlib.pyplot as plt\n",
        "\n",
        "\n",
        "training_data = datasets.FashionMNIST(\n",
        "    root = \"data\",  # 指定数据存放的位置\n",
        "    train = True,  # 指定下载的是训练/测试数据集\n",
        "    download = True,  # 如果数据不在root中，是否从网上下载\n",
        "    transform = ToTensor() # 指定特征和标签transformation\n",
        ")\n",
        "\n",
        "test_data = datasets.FashionMNIST(\n",
        "    root = \"data\",\n",
        "    train = False,\n",
        "    download = True,\n",
        "    transform = ToTensor()\n",
        ")"
      ],
      "metadata": {
        "colab": {
          "base_uri": "https://localhost:8080/"
        },
        "id": "6pm8Xi7HJVJ1",
        "outputId": "c0ecefc5-54e6-42e8-c8a9-882441e39b79"
      },
      "execution_count": null,
      "outputs": [
        {
          "output_type": "stream",
          "name": "stdout",
          "text": [
            "Downloading http://fashion-mnist.s3-website.eu-central-1.amazonaws.com/train-images-idx3-ubyte.gz\n",
            "Downloading http://fashion-mnist.s3-website.eu-central-1.amazonaws.com/train-images-idx3-ubyte.gz to data/FashionMNIST/raw/train-images-idx3-ubyte.gz\n"
          ]
        },
        {
          "output_type": "stream",
          "name": "stderr",
          "text": [
            "100%|██████████| 26.4M/26.4M [00:02<00:00, 13.1MB/s]\n"
          ]
        },
        {
          "output_type": "stream",
          "name": "stdout",
          "text": [
            "Extracting data/FashionMNIST/raw/train-images-idx3-ubyte.gz to data/FashionMNIST/raw\n",
            "\n",
            "Downloading http://fashion-mnist.s3-website.eu-central-1.amazonaws.com/train-labels-idx1-ubyte.gz\n",
            "Downloading http://fashion-mnist.s3-website.eu-central-1.amazonaws.com/train-labels-idx1-ubyte.gz to data/FashionMNIST/raw/train-labels-idx1-ubyte.gz\n"
          ]
        },
        {
          "output_type": "stream",
          "name": "stderr",
          "text": [
            "100%|██████████| 29.5k/29.5k [00:00<00:00, 210kB/s]\n"
          ]
        },
        {
          "output_type": "stream",
          "name": "stdout",
          "text": [
            "Extracting data/FashionMNIST/raw/train-labels-idx1-ubyte.gz to data/FashionMNIST/raw\n",
            "\n",
            "Downloading http://fashion-mnist.s3-website.eu-central-1.amazonaws.com/t10k-images-idx3-ubyte.gz\n",
            "Downloading http://fashion-mnist.s3-website.eu-central-1.amazonaws.com/t10k-images-idx3-ubyte.gz to data/FashionMNIST/raw/t10k-images-idx3-ubyte.gz\n"
          ]
        },
        {
          "output_type": "stream",
          "name": "stderr",
          "text": [
            "100%|██████████| 4.42M/4.42M [00:01<00:00, 3.85MB/s]\n"
          ]
        },
        {
          "output_type": "stream",
          "name": "stdout",
          "text": [
            "Extracting data/FashionMNIST/raw/t10k-images-idx3-ubyte.gz to data/FashionMNIST/raw\n",
            "\n",
            "Downloading http://fashion-mnist.s3-website.eu-central-1.amazonaws.com/t10k-labels-idx1-ubyte.gz\n",
            "Downloading http://fashion-mnist.s3-website.eu-central-1.amazonaws.com/t10k-labels-idx1-ubyte.gz to data/FashionMNIST/raw/t10k-labels-idx1-ubyte.gz\n"
          ]
        },
        {
          "output_type": "stream",
          "name": "stderr",
          "text": [
            "100%|██████████| 5.15k/5.15k [00:00<00:00, 12.4MB/s]"
          ]
        },
        {
          "output_type": "stream",
          "name": "stdout",
          "text": [
            "Extracting data/FashionMNIST/raw/t10k-labels-idx1-ubyte.gz to data/FashionMNIST/raw\n",
            "\n"
          ]
        },
        {
          "output_type": "stream",
          "name": "stderr",
          "text": [
            "\n"
          ]
        }
      ]
    },
    {
      "cell_type": "markdown",
      "source": [
        "数据集下载到Colab云端临时虚拟机文件系统中的一个路径。可在Colab左侧“文件”中查看和下载。"
      ],
      "metadata": {
        "id": "DRPpR-jAUi2U"
      }
    },
    {
      "cell_type": "markdown",
      "source": [
        "## 2.2 迭代和可视化数据集\n",
        "\n",
        "\n",
        "可以手动将`Datasets`按照列表进行索引：`training_data[index]`。使用`matplotlib`来可视化。"
      ],
      "metadata": {
        "id": "rx5VLfBHK1ov"
      }
    },
    {
      "cell_type": "code",
      "source": [
        "labels_map = {\n",
        "    0: \"T-Shirt\",\n",
        "    1: \"Trouser\",\n",
        "    2: \"Pullover\",\n",
        "    3: \"Dress\",\n",
        "    4: \"Coat\",\n",
        "    5: \"Sandal\",\n",
        "    6: \"Shirt\",\n",
        "    7: \"Sneaker\",\n",
        "    8: \"Bag\",\n",
        "    9: \"Ankle Boot\",\n",
        "}\n",
        "figure = plt.figure(figsize=(8, 8))\n",
        "cols, rows = 3, 3\n",
        "for i in range(1, cols * rows + 1):\n",
        "  sample_idx = torch.randint(len(training_data), size=(1,)).item() # 选取索引\n",
        "  img, label = training_data[sample_idx]  # 得到图片和索引tensor\n",
        "  # matplotlib.pyplot\n",
        "  figure.add_subplot(rows, cols, i)\n",
        "  plt.title(labels_map[label])\n",
        "  plt.axis(\"off\")\n",
        "  plt.imshow(img.squeeze(), cmap=\"gray\")\n",
        "plt.show()"
      ],
      "metadata": {
        "collapsed": true,
        "id": "AdOG1ir2KsxP",
        "colab": {
          "base_uri": "https://localhost:8080/",
          "height": 675
        },
        "outputId": "a6c6e96c-4a2b-481b-dc15-b516830faa57"
      },
      "execution_count": null,
      "outputs": [
        {
          "output_type": "display_data",
          "data": {
            "text/plain": [
              "<Figure size 800x800 with 9 Axes>"
            ],
            "image/png": "[encoded data removed]"
          },
          "metadata": {}
        }
      ]
    },
    {
      "cell_type": "markdown",
      "source": [
        "## 2.3 从自己的数据中创建自定义数据集\n",
        "\n",
        "\n",
        "一个自定义数据集必需实现3个函数：`__init__`,`__len__`,`__getitem__`。FashionMNIST的图像存储在`img_dir`中，标签则存储在一个CSV文件中`annotation_file`"
      ],
      "metadata": {
        "id": "ein2Ie9yP0no"
      }
    },
    {
      "cell_type": "code",
      "source": [
        "import os\n",
        "import pandas as pd\n",
        "from torchvision.io import read_image\n",
        "\n",
        "class CustomImageDataset(Dataset):\n",
        "  # __init__函数在初始化Dataset对象时会执行一次，将初始化包含图像的目录、标注文件、两种transform\n",
        "  def __init__(self, annotations_file, img_dir, transform=None,\n",
        "target_transform=None):\n",
        "    self.img_labels = pd.read_csv(annotations_file)\n",
        "    self.img_dir = img_dir\n",
        "    self.transform = target_transform\n",
        "    self.target_transform = target_transform\n",
        "\n",
        "  # __len__返回datasets中的样本数量\n",
        "  def __len__(self):\n",
        "    return len(self.img_labels)\n",
        "\n",
        "  # __getitem__加载并返回给定索引idx处的一个样本：\n",
        "    # 将其张量化torchvision.io.read_image，\n",
        "    # 从self.img_labels中的CSV中读取标签，\n",
        "    # 调用transform，返回图片张量和对应的元组标签\n",
        "  def __getitem__(self, idx):\n",
        "    img_path = os.path.join(self.img_dir, self.img_labels.iloc[idx, 0])\n",
        "    image = read_image(img_path)\n",
        "    label = self.img_labels.iloc[idx, 1]\n",
        "    if self.transform:\n",
        "      image = self.transform(image)\n",
        "    if self.target_transform:\n",
        "      label = self.target_transform(label)\n",
        "    return image, label\n"
      ],
      "metadata": {
        "id": "xj8EOCqaTuWq"
      },
      "execution_count": null,
      "outputs": []
    },
    {
      "cell_type": "markdown",
      "source": [
        "## 2.4 为使用Dataloaders训练准备好数据\n",
        "\n",
        "\n",
        "`Dataset`每次从数据集中获取一个样本点，这个样本点包含了特征（像素）和标签。训练模型时，通常希望以\"minibatches\"传递样本，在每个epoch中重洗数据（reshuffle the data）来减少过拟合和利用python中的multiprocessing加速数据获取。"
      ],
      "metadata": {
        "id": "wKDu0kz_Tde2"
      }
    },
    {
      "cell_type": "code",
      "source": [
        "# Dataloader是一个将上述特性抽象化的可迭代对象，形成了一个api\n",
        "\n",
        "from torch.utils.data import DataLoader\n",
        "\n",
        "train_dataloader = DataLoader(training_data, batch_size=64, shuffle=True)\n",
        "test_dataloader = DataLoader(test_data, batch_size=64, shuffle=True)\n"
      ],
      "metadata": {
        "id": "d7amR7PPc5kE"
      },
      "execution_count": null,
      "outputs": []
    },
    {
      "cell_type": "markdown",
      "source": [
        "## 2.5 用Dataloader迭代\n",
        "已经将数据集加载到DataLoader中了，并且可以根据需要遍历数据集。每轮迭代返回一批`train_features`和`train_labels`（批的大小为64）。由于`shuffle=true`，在完全迭代后数据会被打乱。"
      ],
      "metadata": {
        "id": "c8KjkQccToJg"
      }
    },
    {
      "cell_type": "code",
      "source": [
        "train_features, train_labels = next(iter(train_dataloader))\n",
        "print(f\"Feature batch shape: {train_features.size()}\")\n",
        "print(f\"Labels batch shape: {train_labels.size()}\")\n",
        "\n",
        "print(f\"Train_feature[0] shape: {train_features[0].size()}\")\n",
        "print(torch.ones((2,3,3)))\n",
        "print(torch.ones((1,3,3)).squeeze())\n",
        "\n",
        "img = train_features[0].squeeze()\n",
        "label = train_labels[0]\n",
        "plt.imshow(img,cmap=\"gray\")\n",
        "plt.show()\n",
        "print(f\"Label: {label}\")"
      ],
      "metadata": {
        "id": "MmvPcY3SewjZ",
        "colab": {
          "base_uri": "https://localhost:8080/",
          "height": 683
        },
        "outputId": "e4cd22b2-1dab-42e9-bfd0-ae2d1cca057c"
      },
      "execution_count": null,
      "outputs": [
        {
          "output_type": "stream",
          "name": "stdout",
          "text": [
            "Feature batch shape: torch.Size([64, 1, 28, 28])\n",
            "Labels batch shape: torch.Size([64])\n",
            "Train_feature[0] shape: torch.Size([1, 28, 28])\n",
            "tensor([[[1., 1., 1.],\n",
            "         [1., 1., 1.],\n",
            "         [1., 1., 1.]],\n",
            "\n",
            "        [[1., 1., 1.],\n",
            "         [1., 1., 1.],\n",
            "         [1., 1., 1.]]])\n",
            "tensor([[1., 1., 1.],\n",
            "        [1., 1., 1.],\n",
            "        [1., 1., 1.]])\n"
          ]
        },
        {
          "output_type": "display_data",
          "data": {
            "text/plain": [
              "<Figure size 640x480 with 1 Axes>"
            ],
            "image/png": "[encoded data removed]"
          },
          "metadata": {}
        },
        {
          "output_type": "stream",
          "name": "stdout",
          "text": [
            "Label: 4\n"
          ]
        }
      ]
    },
    {
      "cell_type": "markdown",
      "source": [
        "# 3.Transform"
      ],
      "metadata": {
        "id": "V8ZolUFN1he_"
      }
    },
    {
      "cell_type": "markdown",
      "source": [
        "数据并不总是以训练机器学习算法所需的最终处理形式出现。我们使用***转换（transform）***来对数据进行一些操作，使其适合训练。"
      ],
      "metadata": {
        "id": "G2Wle6GB1sUR"
      }
    },
    {
      "cell_type": "markdown",
      "source": [
        "所有Torchvision datasets有两个参数-`transform`用于修改特征，`target_transform`用于修改标签-这些标签接受含有转换逻辑的可调用对象（transfrom = function()）。torchvision.transform模块提供了若干开箱即用的transforms。\n",
        "\n",
        "\n",
        "FashionMNIST的***特征***是PIL图像格式，***标签***都是整数。用于训练时，需要将特征作为归一化张量，标签作为one-hot编码的张量。为了这些转化，使用到`ToTensor`和`Lambda`"
      ],
      "metadata": {
        "id": "xQY1B3oIF76A"
      }
    },
    {
      "cell_type": "code",
      "source": [
        "import torch\n",
        "from torchvision import datasets\n",
        "from torchvision.transforms import ToTensor, Lambda\n",
        "\n",
        "ds = datasets.FashionMNIST(\n",
        "    root=\"data\",\n",
        "    download=True,\n",
        "    train=True,\n",
        "    transform=ToTensor(),\n",
        "    target_transform=Lambda(lambda y:torch.zeros(10,\n",
        "dtype=torch.float).scatter_(0, torch.tensor(y), value=1))\n",
        ")"
      ],
      "metadata": {
        "id": "G6_euysJ1piB",
        "colab": {
          "base_uri": "https://localhost:8080/"
        },
        "outputId": "1567923d-1221-4a80-9c90-3f648a46363d"
      },
      "execution_count": null,
      "outputs": [
        {
          "output_type": "stream",
          "name": "stdout",
          "text": [
            "Downloading http://fashion-mnist.s3-website.eu-central-1.amazonaws.com/train-images-idx3-ubyte.gz\n",
            "Downloading http://fashion-mnist.s3-website.eu-central-1.amazonaws.com/train-images-idx3-ubyte.gz to data/FashionMNIST/raw/train-images-idx3-ubyte.gz\n"
          ]
        },
        {
          "output_type": "stream",
          "name": "stderr",
          "text": [
            "100%|██████████| 26.4M/26.4M [00:01<00:00, 14.2MB/s]\n"
          ]
        },
        {
          "output_type": "stream",
          "name": "stdout",
          "text": [
            "Extracting data/FashionMNIST/raw/train-images-idx3-ubyte.gz to data/FashionMNIST/raw\n",
            "\n",
            "Downloading http://fashion-mnist.s3-website.eu-central-1.amazonaws.com/train-labels-idx1-ubyte.gz\n",
            "Downloading http://fashion-mnist.s3-website.eu-central-1.amazonaws.com/train-labels-idx1-ubyte.gz to data/FashionMNIST/raw/train-labels-idx1-ubyte.gz\n"
          ]
        },
        {
          "output_type": "stream",
          "name": "stderr",
          "text": [
            "100%|██████████| 29.5k/29.5k [00:00<00:00, 229kB/s]\n"
          ]
        },
        {
          "output_type": "stream",
          "name": "stdout",
          "text": [
            "Extracting data/FashionMNIST/raw/train-labels-idx1-ubyte.gz to data/FashionMNIST/raw\n",
            "\n",
            "Downloading http://fashion-mnist.s3-website.eu-central-1.amazonaws.com/t10k-images-idx3-ubyte.gz\n",
            "Downloading http://fashion-mnist.s3-website.eu-central-1.amazonaws.com/t10k-images-idx3-ubyte.gz to data/FashionMNIST/raw/t10k-images-idx3-ubyte.gz\n"
          ]
        },
        {
          "output_type": "stream",
          "name": "stderr",
          "text": [
            "100%|██████████| 4.42M/4.42M [00:01<00:00, 4.32MB/s]\n"
          ]
        },
        {
          "output_type": "stream",
          "name": "stdout",
          "text": [
            "Extracting data/FashionMNIST/raw/t10k-images-idx3-ubyte.gz to data/FashionMNIST/raw\n",
            "\n",
            "Downloading http://fashion-mnist.s3-website.eu-central-1.amazonaws.com/t10k-labels-idx1-ubyte.gz\n",
            "Downloading http://fashion-mnist.s3-website.eu-central-1.amazonaws.com/t10k-labels-idx1-ubyte.gz to data/FashionMNIST/raw/t10k-labels-idx1-ubyte.gz\n"
          ]
        },
        {
          "output_type": "stream",
          "name": "stderr",
          "text": [
            "100%|██████████| 5.15k/5.15k [00:00<00:00, 8.70MB/s]"
          ]
        },
        {
          "output_type": "stream",
          "name": "stdout",
          "text": [
            "Extracting data/FashionMNIST/raw/t10k-labels-idx1-ubyte.gz to data/FashionMNIST/raw\n",
            "\n"
          ]
        },
        {
          "output_type": "stream",
          "name": "stderr",
          "text": [
            "\n"
          ]
        }
      ]
    },
    {
      "cell_type": "markdown",
      "source": [
        "## 3.1 ToTensor()\n",
        "\n",
        "\n",
        "`ToTensor()`将PIL图片或Numpy数组`narray`转换为`floatTensor`，并将像素值缩放到[0.,1.]中以归一化。\n",
        "\n"
      ],
      "metadata": {
        "id": "708z1SmnInf3"
      }
    },
    {
      "cell_type": "markdown",
      "source": [
        "## 3.2 Lambda Transforms\n",
        "\n",
        "\n",
        "Lambda变换应用于任何用户定义的lambda函数-这个函数将整数转换为one-hot编码的张量：它首先创建一个大小为10（我们数据集中标签的数量）的零张量，并调用scatter_将value=1值分配给由标签y给出的索引。\n",
        "\n",
        "\n",
        "（这意味着，把2转为类似transpose([0, 0, 1, 0, 0, 0, 0, 0, 0, 0])的结构。）"
      ],
      "metadata": {
        "id": "Zd5WY95AIzYw"
      }
    },
    {
      "cell_type": "code",
      "source": [
        "target_transform=Lambda(lambda y: torch.zeros(10,\n",
        "dtype=torch.float).scatter_(dim=0, index=torch.tensor(y), value=1))"
      ],
      "metadata": {
        "id": "OQCvQ-mbKXxl"
      },
      "execution_count": null,
      "outputs": []
    },
    {
      "cell_type": "code",
      "source": [
        "# 上述标签每次传入一个整数，\n",
        "index = torch.tensor([4])\n",
        "torch.zeros(10,dtype=torch.float).scatter(dim=0,index=index, value=1)"
      ],
      "metadata": {
        "colab": {
          "base_uri": "https://localhost:8080/"
        },
        "id": "iWDFlx2-LPBm",
        "outputId": "5c7f6b45-e8c7-4b82-fddf-62ca4ae51ebf"
      },
      "execution_count": null,
      "outputs": [
        {
          "output_type": "execute_result",
          "data": {
            "text/plain": [
              "tensor([0., 0., 0., 0., 1., 0., 0., 0., 0., 0.])"
            ]
          },
          "metadata": {},
          "execution_count": 8
        }
      ]
    },
    {
      "cell_type": "markdown",
      "source": [
        "# 4.Build the Neural Network\n"
      ],
      "metadata": {
        "id": "m_52Mr0mNC0v"
      }
    },
    {
      "cell_type": "markdown",
      "source": [
        "神经网络由执行数据操作的层/模块组成。`torch.nn`命名空间提供了构建您自己的神经网络所需的所有构建块。PyTorch中的每个模块都继承自`nn.Module`。一个神经网络本身是一个模块，由其他模块（层）组成。这种嵌套结构使得构建和管理复杂的架构变得容易。\n",
        "\n",
        "\n"
      ],
      "metadata": {
        "id": "w24VHyndNMDw"
      }
    },
    {
      "cell_type": "markdown",
      "source": [
        "下面构建一个神经网络对FashionMNIST进行分类："
      ],
      "metadata": {
        "id": "ceQHdMOSN6Yz"
      }
    },
    {
      "cell_type": "code",
      "source": [
        "import os\n",
        "import torch\n",
        "from torch import nn\n",
        "from torch.utils.data import DataLoader\n",
        "from torchvision import datasets, transforms"
      ],
      "metadata": {
        "id": "fNswZO_7N5VG"
      },
      "execution_count": null,
      "outputs": []
    },
    {
      "cell_type": "markdown",
      "source": [
        "## 4.1 获取硬件以支持训练\n",
        "\n",
        "\n"
      ],
      "metadata": {
        "id": "6zVO1x9HQHUQ"
      }
    },
    {
      "cell_type": "code",
      "source": [
        "device = torch.device('cuda:0').type if torch.cuda.is_available() else \"cpu\"\n",
        "print(f\"Using {device} device\")"
      ],
      "metadata": {
        "colab": {
          "base_uri": "https://localhost:8080/"
        },
        "id": "TeOadeAyTlYl",
        "outputId": "440390ba-9640-4fa5-9590-761a70e65a01"
      },
      "execution_count": null,
      "outputs": [
        {
          "output_type": "stream",
          "name": "stdout",
          "text": [
            "Using cpu device\n"
          ]
        }
      ]
    },
    {
      "cell_type": "markdown",
      "source": [
        "## 4.2 定义类\n",
        "\n",
        "\n",
        "通过子类化`nn.Module`来定义神经网络，并在`__init__`中初始化神经网络层。每个`nn.Module`子类都实现了`forward`方法中的输入数据操作。"
      ],
      "metadata": {
        "id": "9PqSr7gPUQYR"
      }
    },
    {
      "cell_type": "code",
      "source": [
        "class NeuralNetwork(nn.Module):\n",
        "  def __init__(self):\n",
        "    super().__init__()\n",
        "    self.flatten = nn.Flatten()\n",
        "    self.linear_relu_stack = nn.Sequential(\n",
        "        nn.Linear(28*28, 512),\n",
        "        nn.ReLU(),\n",
        "        nn.Linear(512, 512),\n",
        "        nn.ReLU(),\n",
        "        nn.Linear(512,10)\n",
        "    )\n",
        "\n",
        "  def forward(self, x):\n",
        "    x = self.flatten(x)\n",
        "    logits = self.linear_relu_stack(x)\n",
        "    return logits"
      ],
      "metadata": {
        "id": "U0iS4yNfUhBN"
      },
      "execution_count": null,
      "outputs": []
    },
    {
      "cell_type": "markdown",
      "source": [
        "实例化一个`model`并显式迁移到device上："
      ],
      "metadata": {
        "id": "kKuAYhVXVSf8"
      }
    },
    {
      "cell_type": "code",
      "source": [
        "model = NeuralNetwork().to(device)\n",
        "print(model)"
      ],
      "metadata": {
        "colab": {
          "base_uri": "https://localhost:8080/"
        },
        "id": "HixnAHq_VZ_E",
        "outputId": "500f1fef-782e-4cdb-bb22-ad4119410353"
      },
      "execution_count": null,
      "outputs": [
        {
          "output_type": "stream",
          "name": "stdout",
          "text": [
            "NeuralNetwork(\n",
            "  (flatten): Flatten(start_dim=1, end_dim=-1)\n",
            "  (linear_relu_stack): Sequential(\n",
            "    (0): Linear(in_features=784, out_features=512, bias=True)\n",
            "    (1): ReLU()\n",
            "    (2): Linear(in_features=512, out_features=512, bias=True)\n",
            "    (3): ReLU()\n",
            "    (4): Linear(in_features=512, out_features=10, bias=True)\n",
            "  )\n",
            ")\n"
          ]
        }
      ]
    },
    {
      "cell_type": "markdown",
      "source": [
        "将输入数据传入模型就是使用模型。这执行了模型的前向反馈，以及一些background operations。杜绝直接调用`model.forward()`\n",
        "\n",
        "\n",
        "调用模型会对输入处理并返回一个二维张量，dim=0对应每个类别的原始预测值，dim=1对应每个输出的单独值。\n",
        "\n"
      ],
      "metadata": {
        "id": "EOAx4Zjw9hK7"
      }
    },
    {
      "cell_type": "code",
      "source": [
        "X = torch.rand(1,28,28, device=device)\n",
        "logits = model(X)\n",
        "print(f\"Predicted logits: {logits}\")\n",
        "pred_probab = nn.Softmax(dim=1)(logits)\n",
        "y_pred = pred_probab.argmax(1)\n",
        "print(f\"Predicted class: {y_pred}\")"
      ],
      "metadata": {
        "colab": {
          "base_uri": "https://localhost:8080/"
        },
        "id": "pVnr7w_R-kt4",
        "outputId": "6cfb712d-ef6c-449e-b6c9-ee4548ca4ff7"
      },
      "execution_count": null,
      "outputs": [
        {
          "output_type": "stream",
          "name": "stdout",
          "text": [
            "Predicted logits: tensor([[ 0.0037, -0.0436, -0.0344, -0.0706,  0.0180, -0.0665, -0.1340, -0.1005,\n",
            "          0.0195, -0.1003]], grad_fn=<AddmmBackward0>)\n",
            "Predicted class: tensor([8])\n"
          ]
        }
      ]
    },
    {
      "cell_type": "markdown",
      "source": [
        "## 4.3 模型的层模块\n",
        "\n",
        "\n",
        "将FashionMNIST模型按层拆解。为了说明，将使用一个包含3张28*28的小批次图像，并看看这些图像传递给网络时发生了什么：\n"
      ],
      "metadata": {
        "id": "yGUZdJtw_dUt"
      }
    },
    {
      "cell_type": "code",
      "source": [
        "import matplotlib.pyplot as plt\n",
        "\n",
        "input_image = torch.rand(3,28,28)\n",
        "\n",
        "# matlibplot 可视化\n",
        "figure = plt.figure(figsize=(9,9))\n",
        "for i in range(1,4):\n",
        "  img = input_image[i-1, :]\n",
        "\n",
        "  figure.add_subplot(4,4,i)\n",
        "  plt.title(f\"{i}\")\n",
        "  plt.axis(\"off\")\n",
        "  plt.imshow(img.squeeze(), cmap=\"gray\")\n",
        "\n",
        "\n",
        "print(input_image.size())"
      ],
      "metadata": {
        "colab": {
          "base_uri": "https://localhost:8080/",
          "height": 227
        },
        "id": "KvSLO9rLANVR",
        "outputId": "2c11419c-8da0-43ca-d2f3-bc60e560c83a"
      },
      "execution_count": null,
      "outputs": [
        {
          "output_type": "stream",
          "name": "stdout",
          "text": [
            "torch.Size([3, 28, 28])\n"
          ]
        },
        {
          "output_type": "display_data",
          "data": {
            "text/plain": [
              "<Figure size 900x900 with 3 Axes>"
            ],
            "image/png": "[encoded data removed]"
          },
          "metadata": {}
        }
      ]
    },
    {
      "cell_type": "markdown",
      "source": [
        "### 4.3.1 nn.Flatten\n",
        "\n",
        "\n",
        "创建一个`nn.Flatten`将每个2D 28*28 图像转变为连续的784像素值，而batch_size（张量的第一个维度保持不变）：\n"
      ],
      "metadata": {
        "id": "83w7z-z0D7Gi"
      }
    },
    {
      "cell_type": "code",
      "source": [
        "flatten = nn.Flatten()\n",
        "flat_image = flatten(input_image)\n",
        "\n",
        "print(flat_image.size())"
      ],
      "metadata": {
        "colab": {
          "base_uri": "https://localhost:8080/"
        },
        "id": "GzS6KFfXEgVp",
        "outputId": "129812b3-61b4-47ee-f034-38b4232af913"
      },
      "execution_count": null,
      "outputs": [
        {
          "output_type": "stream",
          "name": "stdout",
          "text": [
            "torch.Size([3, 784])\n"
          ]
        }
      ]
    },
    {
      "cell_type": "markdown",
      "source": [
        "### 4.3.2 nn.Linear\n",
        "\n",
        "\n",
        "`nn.Linear`利用它存储的权重和偏置，对输入实施线性变换：\n"
      ],
      "metadata": {
        "id": "FdZ-c6udE24R"
      }
    },
    {
      "cell_type": "code",
      "source": [
        "layer1 = nn.Linear(in_features=28*28, out_features=20)\n",
        "hidden1 = layer1(flat_image)\n",
        "\n",
        "print(hidden1.size())"
      ],
      "metadata": {
        "colab": {
          "base_uri": "https://localhost:8080/"
        },
        "id": "nFy5Y_hyFLbL",
        "outputId": "061f503b-b037-4f92-dafd-03527efc0fbf"
      },
      "execution_count": null,
      "outputs": [
        {
          "output_type": "stream",
          "name": "stdout",
          "text": [
            "torch.Size([3, 20])\n"
          ]
        }
      ]
    },
    {
      "cell_type": "markdown",
      "source": [
        "### 4.3.3 nn.ReLU\n",
        "\n",
        "\n",
        "非线性激活函数是模型可以映射输入和输出复杂关系的原因。此类层在线性变换之后引入非线性。\n",
        "\n",
        "\n",
        "在本模型中，线性层之间使用了`nn.ReLU`（也有其他激活函数）"
      ],
      "metadata": {
        "id": "idMgfgaXJSey"
      }
    },
    {
      "cell_type": "code",
      "source": [
        "print(f\"Only show one of the batch: \")\n",
        "print(f\"Before ReLU: {hidden1[0,:]}\")\n",
        "hidden1 = nn.ReLU()(hidden1)\n",
        "print(f\"After ReLU: {hidden1[0,:]}\")"
      ],
      "metadata": {
        "colab": {
          "base_uri": "https://localhost:8080/"
        },
        "id": "BDtz4m7iJR0r",
        "outputId": "386bf471-ce73-4b08-d440-d77a9fb4de81"
      },
      "execution_count": null,
      "outputs": [
        {
          "output_type": "stream",
          "name": "stdout",
          "text": [
            "Only show one of the batch: \n",
            "Before ReLU: tensor([-0.4636, -0.2401, -0.5011,  0.0913, -0.0328,  0.0692,  0.3409, -0.3499,\n",
            "         0.4479,  0.4270,  0.5184,  0.0575,  0.1411,  0.0650, -0.0466, -0.0259,\n",
            "         0.1589,  0.1520, -0.4966, -0.0796], grad_fn=<SliceBackward0>)\n",
            "After ReLU: tensor([0.0000, 0.0000, 0.0000, 0.0913, 0.0000, 0.0692, 0.3409, 0.0000, 0.4479,\n",
            "        0.4270, 0.5184, 0.0575, 0.1411, 0.0650, 0.0000, 0.0000, 0.1589, 0.1520,\n",
            "        0.0000, 0.0000], grad_fn=<SliceBackward0>)\n"
          ]
        }
      ]
    },
    {
      "cell_type": "markdown",
      "source": [
        "### 4.3.4 nn.Sequential\n",
        "\n",
        "\n",
        "`nn.Sequential`是一个按序包含模块的容器。数据按照定义的顺序通过所有模块。"
      ],
      "metadata": {
        "id": "6ZfWdgBiLbMo"
      }
    },
    {
      "cell_type": "code",
      "source": [
        "seq_modules = nn.Sequential(\n",
        "    flatten,\n",
        "    layer1,\n",
        "    nn.ReLU(),\n",
        "    nn.Linear(20,10)\n",
        ")\n",
        "input_image = torch.rand(3,28,28)\n",
        "logits = seq_modules(input_image)\n",
        "\n",
        "print(logits.size())"
      ],
      "metadata": {
        "colab": {
          "base_uri": "https://localhost:8080/"
        },
        "id": "r2Srt_k-L3ZO",
        "outputId": "45daffad-a2c8-4e5e-bb1b-41e6a4948ffe"
      },
      "execution_count": null,
      "outputs": [
        {
          "output_type": "stream",
          "name": "stdout",
          "text": [
            "torch.Size([3, 10])\n"
          ]
        }
      ]
    },
    {
      "cell_type": "markdown",
      "source": [
        "### 4.3.5 nn.Softmax\n",
        "\n",
        "\n",
        "神经网络的最后一层线性层返回 logits——一个在[-∞, ∞]范围内的原始值——这些值随后传递给 nn.Softmax 模块。logits 被缩放到[0, 1]范围内的值，表示模型对每个类别的预测概率。 dim 参数表示值必须沿其求和为 1 的维度。"
      ],
      "metadata": {
        "id": "1PC4QNLxMTXc"
      }
    },
    {
      "cell_type": "code",
      "source": [
        "softmax = nn.Softmax(dim=1)\n",
        "pred_probab = softmax(logits)\n",
        "\n",
        "print(pred_probab[0,:])"
      ],
      "metadata": {
        "colab": {
          "base_uri": "https://localhost:8080/"
        },
        "id": "KsnCV3-5Mi0W",
        "outputId": "57eadc43-d484-4258-a72c-cf99ef61233a"
      },
      "execution_count": null,
      "outputs": [
        {
          "output_type": "stream",
          "name": "stdout",
          "text": [
            "tensor([0.1166, 0.0976, 0.0998, 0.1145, 0.1042, 0.0876, 0.1071, 0.0833, 0.1028,\n",
            "        0.0864], grad_fn=<SliceBackward0>)\n"
          ]
        }
      ]
    },
    {
      "cell_type": "markdown",
      "source": [
        "## 4.4 模型参数\n",
        "\n",
        "\n",
        "神经网络中很多内部层是参数化的，即参数会在训练中被优化。通过子类化`nn.Module`，会自动跟踪模型内部所有字段，使用`parameters()`或`named_parameters()`方法访问。"
      ],
      "metadata": {
        "id": "ADAU2xciM1Cx"
      }
    },
    {
      "cell_type": "code",
      "source": [
        "print(f\"Model structure: {model}\\n\\n\")\n",
        "\n",
        "for name, param in model.named_parameters():\n",
        "  print(f\"Layer:{name}|Size:{param.size()}|Values:{param[:2]}\\n\")"
      ],
      "metadata": {
        "colab": {
          "base_uri": "https://localhost:8080/"
        },
        "id": "MaAv1U8iPFJN",
        "outputId": "b7a21f23-aa42-4e36-e182-8560ccef85ad"
      },
      "execution_count": null,
      "outputs": [
        {
          "output_type": "stream",
          "name": "stdout",
          "text": [
            "Model structure: NeuralNetwork(\n",
            "  (flatten): Flatten(start_dim=1, end_dim=-1)\n",
            "  (linear_relu_stack): Sequential(\n",
            "    (0): Linear(in_features=784, out_features=512, bias=True)\n",
            "    (1): ReLU()\n",
            "    (2): Linear(in_features=512, out_features=512, bias=True)\n",
            "    (3): ReLU()\n",
            "    (4): Linear(in_features=512, out_features=10, bias=True)\n",
            "  )\n",
            ")\n",
            "\n",
            "\n",
            "Layer:linear_relu_stack.0.weight|Size:torch.Size([512, 784])|Values:tensor([[ 0.0039, -0.0357,  0.0261,  ..., -0.0194, -0.0105,  0.0353],\n",
            "        [-0.0334, -0.0093,  0.0067,  ..., -0.0321,  0.0342,  0.0151]],\n",
            "       grad_fn=<SliceBackward0>)\n",
            "\n",
            "Layer:linear_relu_stack.0.bias|Size:torch.Size([512])|Values:tensor([-0.0205, -0.0202], grad_fn=<SliceBackward0>)\n",
            "\n",
            "Layer:linear_relu_stack.2.weight|Size:torch.Size([512, 512])|Values:tensor([[ 0.0082, -0.0190,  0.0026,  ..., -0.0421, -0.0107,  0.0291],\n",
            "        [-0.0218,  0.0015,  0.0062,  ..., -0.0370, -0.0188,  0.0433]],\n",
            "       grad_fn=<SliceBackward0>)\n",
            "\n",
            "Layer:linear_relu_stack.2.bias|Size:torch.Size([512])|Values:tensor([-0.0391,  0.0194], grad_fn=<SliceBackward0>)\n",
            "\n",
            "Layer:linear_relu_stack.4.weight|Size:torch.Size([10, 512])|Values:tensor([[ 0.0259, -0.0163, -0.0144,  ...,  0.0316,  0.0307, -0.0311],\n",
            "        [ 0.0363, -0.0019, -0.0348,  ...,  0.0359,  0.0034,  0.0306]],\n",
            "       grad_fn=<SliceBackward0>)\n",
            "\n",
            "Layer:linear_relu_stack.4.bias|Size:torch.Size([10])|Values:tensor([-0.0237, -0.0274], grad_fn=<SliceBackward0>)\n",
            "\n"
          ]
        }
      ]
    },
    {
      "cell_type": "markdown",
      "source": [
        "# 5.Automatic Differentiation with `torch.autograd`\n"
      ],
      "metadata": {
        "id": "ZSzHsp9_QAvF"
      }
    },
    {
      "cell_type": "markdown",
      "source": [
        "在训练神经网络时，使用最频繁的算法是 **反向传播** 。在该算法中，参数（模型权重）会根据给定参数相对于损失函数的 **梯度** 进行调整。\n",
        "\n",
        "\n",
        "为了计算这些梯度，PyTorch有一个内置的求导引擎`torch.autograd`。它支持任意计算图的自动梯度计算。\n",
        "\n",
        "\n",
        "考虑最简单的单层神经网络，输入为 x ，参数为 w 和 b ，以及某种损失函数。它可以用以下方式在 PyTorch 中定义"
      ],
      "metadata": {
        "id": "6Mf5pWtMQQZU"
      }
    },
    {
      "cell_type": "code",
      "source": [
        "import torch\n",
        "\n",
        "x = torch.ones(5)\n",
        "y = torch.zeros(3)\n",
        "w = torch.randn(5, 3, requires_grad=True)\n",
        "b = torch.randn(3, requires_grad=True)\n",
        "z = torch.matmul(x, w)+b\n",
        "loss = torch.nn.functional.binary_cross_entropy_with_logits(z, y)"
      ],
      "metadata": {
        "id": "Gzv7UFidxwiW"
      },
      "execution_count": null,
      "outputs": []
    },
    {
      "cell_type": "markdown",
      "source": [
        "## 5.1 张量、方程和计算图\n",
        "\n",
        "\n",
        "在上面这个计算图中，w和b是需要优化的参数。因此需要计算这些参数在损失函数中的梯度。为此，将这些张量设置了`requires_grad`属性。\n",
        "\n",
        "\n",
        "（或者可以在使用时用`x.requires_grad_(True)`方法）\n",
        "\n",
        "\n",
        "应用到张量上的用于构建计算图的函数实际上是Function class 的对象。这个对象知道如何在前向传播时计算函数，也知道如何在反向传播时计算其导数。张量的 `grad_fn` 属性中存储了反向传播函数的引用。"
      ],
      "metadata": {
        "id": "fLgrCOSE2L3f"
      }
    },
    {
      "cell_type": "code",
      "source": [
        "print(f\"Gradient function for z = {z.grad_fn}\")\n",
        "print(f\"Gradient function for loss = {loss.grad_fn}\")"
      ],
      "metadata": {
        "colab": {
          "base_uri": "https://localhost:8080/"
        },
        "id": "DogLw8qB9WDv",
        "outputId": "b329489b-642a-4844-d53a-04410539e99f"
      },
      "execution_count": null,
      "outputs": [
        {
          "output_type": "stream",
          "name": "stdout",
          "text": [
            "Gradient function for z = <AddBackward0 object at 0x7828764a5870>\n",
            "Gradient function for loss = <BinaryCrossEntropyWithLogitsBackward0 object at 0x782876e57df0>\n"
          ]
        }
      ]
    },
    {
      "cell_type": "markdown",
      "source": [
        "## 5.2 计算梯度\n",
        "\n",
        "\n",
        "为了优化神经网络中的参数权重，我们需要计算损失函数关于参数的导数，即在某些固定值的 x 和 y 下，我们需要 $\\frac{∂ loss}{∂w}$ 和 $\\frac{∂ loss}{∂b}$。为了计算这些导数，我们调用 loss.backward() ，然后从 `w.grad` 和 `b.grad` 中获取值："
      ],
      "metadata": {
        "id": "Ou-cEQuG9k1n"
      }
    },
    {
      "cell_type": "code",
      "source": [
        "loss.backward()\n",
        "print(w.grad)\n",
        "print(b.grad)"
      ],
      "metadata": {
        "colab": {
          "base_uri": "https://localhost:8080/"
        },
        "id": "a1oTGKn4-DBj",
        "outputId": "8a91f7c6-71b8-476a-f6e2-ef53a0013b55"
      },
      "execution_count": null,
      "outputs": [
        {
          "output_type": "stream",
          "name": "stdout",
          "text": [
            "tensor([[0.0507, 0.0094, 0.0478],\n",
            "        [0.0507, 0.0094, 0.0478],\n",
            "        [0.0507, 0.0094, 0.0478],\n",
            "        [0.0507, 0.0094, 0.0478],\n",
            "        [0.0507, 0.0094, 0.0478]])\n",
            "tensor([0.0507, 0.0094, 0.0478])\n"
          ]
        }
      ]
    },
    {
      "cell_type": "markdown",
      "source": [
        "## 5.3 禁用梯度跟踪\n",
        "\n",
        "\n",
        "默认情况下，所有带有 requires_grad=True 的张量都会跟踪其计算历史并支持梯度计算。然而，有些情况下我们不需要这样做，例如当我们训练好模型只想将其应用于某些输入数据时，即我们只想在网络中进行前向计算。我们可以通过将计算代码包围在 torch.no_grad() 块中来停止跟踪计算："
      ],
      "metadata": {
        "id": "AuHt30g2-WQY"
      }
    },
    {
      "cell_type": "code",
      "source": [
        "z = torch.matmul(x, w)+b\n",
        "print(z.requires_grad)\n",
        "\n",
        "with torch.no_grad():\n",
        "  z = torch.matmul(x, w)+b\n",
        "print(z.requires_grad)"
      ],
      "metadata": {
        "colab": {
          "base_uri": "https://localhost:8080/"
        },
        "id": "_ErK1ZX9-s2E",
        "outputId": "7756bad0-2d43-4aa6-fcd9-4dd23273c760"
      },
      "execution_count": null,
      "outputs": [
        {
          "output_type": "stream",
          "name": "stdout",
          "text": [
            "True\n",
            "False\n"
          ]
        }
      ]
    },
    {
      "cell_type": "code",
      "source": [
        "# 另一种使用detach()的策略\n",
        "z = torch.matmul(x, w)+b\n",
        "z_det = z.detach()\n",
        "print(z_det.requires_grad)"
      ],
      "metadata": {
        "colab": {
          "base_uri": "https://localhost:8080/"
        },
        "id": "9mMXld-6--c8",
        "outputId": "7bafd9d5-ac70-4d3e-dbe0-d85844705f7d"
      },
      "execution_count": null,
      "outputs": [
        {
          "output_type": "stream",
          "name": "stdout",
          "text": [
            "False\n"
          ]
        }
      ]
    },
    {
      "cell_type": "markdown",
      "source": [
        "以下是需要禁用梯度跟踪的情况：\n",
        "+ 将神经网络中的某些参数冻结\n",
        "+ 只做前向传播，需要加速计算时。"
      ],
      "metadata": {
        "id": "ZSt23QAR_PjJ"
      }
    },
    {
      "cell_type": "markdown",
      "source": [
        "## 5.4 关于计算图的更多\n",
        "\n",
        "\n",
        "概念上，autograd 会记录所有数据（张量）和执行的操作（以及由此产生的新张量）在一个有向无环图（DAG）中，该图由 Function 对象组成。在这个 DAG 中，叶子节点是输入张量，根节点是输出张量。通过从根节点追踪到叶子节点，可以使用链式法则自动计算梯度。"
      ],
      "metadata": {
        "id": "9Jpbz0m5_rVZ"
      }
    },
    {
      "cell_type": "markdown",
      "source": [
        "# 6.Optimizing Model Parameters"
      ],
      "metadata": {
        "id": "bP7uC1r3otTC"
      }
    },
    {
      "cell_type": "code",
      "source": [
        "import torch\n",
        "\n",
        "from torchvision import datasets\n",
        "from torchvision.transforms import ToTensor\n",
        "\n",
        "training_data = datasets.FashionMNIST(\n",
        "    root = \"data\",\n",
        "    train = True,\n",
        "    download = True,\n",
        "    transform = ToTensor()\n",
        ")\n",
        "\n",
        "test_data = datasets.FashionMNIST(\n",
        "    root = \"data\",\n",
        "    train = False,\n",
        "    download = True,\n",
        "    transform = ToTensor()\n",
        ")\n",
        "\n",
        "from torch.utils.data import DataLoader\n",
        "\n",
        "training_dataloader = DataLoader(training_data, batch_size=64, shuffle=True)\n",
        "test_dataloader = DataLoader(test_data, batch_size=64, shuffle=True)\n",
        "\n",
        "from torch import nn\n",
        "\n",
        "class NeuralNetwork(nn.Module):\n",
        "  def __init__(self):\n",
        "    super().__init__()\n",
        "    self.flatten = nn.Flatten()\n",
        "    self.linear_relu_stack = nn.Sequential(\n",
        "      nn.Linear(28*28, 512),\n",
        "      nn.ReLU(),\n",
        "      nn.Linear(512,512),\n",
        "      nn.ReLU(),\n",
        "      nn.Linear(512,10)\n",
        "    )\n",
        "\n",
        "  def forward(self, x):\n",
        "    x = self.flatten(x)\n",
        "    logits = self.linear_relu_stack(x)\n",
        "    return logits\n",
        "\n",
        "model = NeuralNetwork()\n",
        "\n",
        "\n"
      ],
      "metadata": {
        "id": "Pex4sKINoyQs"
      },
      "execution_count": 6,
      "outputs": []
    },
    {
      "cell_type": "markdown",
      "source": [
        "## 6.2 超参数\n",
        "\n",
        "\n",
        "超参数可以控制模型优化过程，影响模型训练和收敛速度：\n",
        "+ NUmber of Epochs：迭代次数\n",
        "+ Batch Size：\n",
        "+ Learning rate"
      ],
      "metadata": {
        "id": "Su0lAyiOsIQw"
      }
    },
    {
      "cell_type": "code",
      "source": [
        "learning_rate = 1e-3\n",
        "batch_size = 64\n",
        "epochs = 5"
      ],
      "metadata": {
        "id": "qcaLTIIysVpQ"
      },
      "execution_count": 7,
      "outputs": []
    },
    {
      "cell_type": "markdown",
      "source": [
        "## 6.3 优化循环\n",
        "\n",
        "\n",
        "设置好超参数后，就可以使用optimization loop进行模型训练了，一个循环的每次迭代称为 epoch"
      ],
      "metadata": {
        "id": "ditq2uNDs324"
      }
    },
    {
      "cell_type": "markdown",
      "source": [
        "## 6.4 损失函数"
      ],
      "metadata": {
        "id": "DFVdLL52tVBM"
      }
    },
    {
      "cell_type": "code",
      "source": [
        "loss_fn = nn.CrossEntropyLoss()"
      ],
      "metadata": {
        "id": "XniUad7KtUEi"
      },
      "execution_count": null,
      "outputs": []
    },
    {
      "cell_type": "markdown",
      "source": [
        "## 6.5 优化器\n",
        "\n"
      ],
      "metadata": {
        "id": "frNJcffttdzp"
      }
    },
    {
      "cell_type": "markdown",
      "source": [
        "Stochastic Gradient Descent (SGD)\n"
      ],
      "metadata": {
        "id": "Mmx51CNVtz1Q"
      }
    },
    {
      "cell_type": "code",
      "source": [
        "optimizer = torch.optim.SGD(model.parameters(), lr=learning_rate)"
      ],
      "metadata": {
        "id": "HWXWuecStvHy"
      },
      "execution_count": null,
      "outputs": []
    },
    {
      "cell_type": "markdown",
      "source": [
        "## 6,6 综合"
      ],
      "metadata": {
        "id": "f34DwcMuuLDQ"
      }
    },
    {
      "cell_type": "code",
      "source": [
        "def train_loop(dataloader, model, loss_fn, optimizer):\n",
        "  size = len(dataloader.dataset)\n",
        "  # 将模型设置为train模式，对batch normalization 和 dropout layer 很重要。\n",
        "  model.train()\n",
        "  for batch, (X, y) in enumerate(dataloader):\n",
        "    pred = model(X)\n",
        "    loss = loss_fn(pred,y)\n",
        "\n",
        "    #反向传播\n",
        "    loss.backward()\n",
        "    optimizer.step()\n",
        "    optimizer.zero_grad()\n",
        "\n",
        "    if batch % 100 == 0:\n",
        "      loss, current = loss.item(), batch * batch_size + len(X)\n",
        "      print(f\"loss:{loss:>7f} [{current:>5d}/{size:>5d}]\")\n",
        "\n",
        "def test_loop(dataloader, model, loss_fn):\n",
        "  #将模型设置为evaluation模式\n",
        "  model.eval()\n",
        "  size = len(dataloader.dataset)\n",
        "  num_batches = len(dataloader)\n",
        "  test_loss, correct = 0, 0\n",
        "\n",
        "  #使用torch.no_grad()评估模型，这样就不会在测试时去计算梯度了\n",
        "  with torch.no_grad():\n",
        "    for X, y in dataloader:\n",
        "      pred = model(X)\n",
        "      test_loss += loss_fn(pred, y).item()\n",
        "      correct += (pred.argmax(1) == y).type(torch.float).sum().item()\n",
        "\n",
        "  test_loss /= num_batches\n",
        "  correct /= size\n",
        "  print(f\"Test Error: \\n Accuracy:{(100*correct):>0.1f}%, Avg loss:{test_loss:>8f}\\n\")"
      ],
      "metadata": {
        "id": "rYQchhZPuOUC"
      },
      "execution_count": 12,
      "outputs": []
    },
    {
      "cell_type": "markdown",
      "source": [
        "在初始化损失函数和优化器后，将它传入train_loop和test_loop："
      ],
      "metadata": {
        "id": "Gaf8ICwuxOOP"
      }
    },
    {
      "cell_type": "code",
      "source": [
        "loss_fn = nn.CrossEntropyLoss()\n",
        "optimizer = torch.optim.SGD(model.parameters(), lr=learning_rate)\n",
        "\n",
        "epochs = 20\n",
        "for t in range(epochs):\n",
        "  print(f\"Epoch {t+1}\\n-----------------------------------------\")\n",
        "  train_loop(training_dataloader, model, loss_fn, optimizer)\n",
        "  test_loop(test_dataloader, model, loss_fn)\n",
        "print(\"Done!\")"
      ],
      "metadata": {
        "colab": {
          "base_uri": "https://localhost:8080/"
        },
        "id": "O5iD79ggxczQ",
        "outputId": "9fc5f12b-8584-4988-f6f9-3a06481d2c02"
      },
      "execution_count": 13,
      "outputs": [
        {
          "output_type": "stream",
          "name": "stdout",
          "text": [
            "Epoch 1\n",
            "-----------------------------------------\n",
            "loss:2.124749 [   64/60000]\n",
            "loss:2.141955 [ 6464/60000]\n",
            "loss:2.118830 [12864/60000]\n",
            "loss:2.113176 [19264/60000]\n",
            "loss:2.048773 [25664/60000]\n",
            "loss:2.010081 [32064/60000]\n",
            "loss:2.002404 [38464/60000]\n",
            "loss:1.961066 [44864/60000]\n",
            "loss:1.943437 [51264/60000]\n",
            "loss:1.882723 [57664/60000]\n",
            "Test Error: \n",
            " Accuracy:56.4%, Avg loss:1.905674\n",
            "\n",
            "Epoch 2\n",
            "-----------------------------------------\n",
            "loss:1.858070 [   64/60000]\n",
            "loss:1.921638 [ 6464/60000]\n",
            "loss:1.824083 [12864/60000]\n",
            "loss:1.703490 [19264/60000]\n",
            "loss:1.727073 [25664/60000]\n",
            "loss:1.735632 [32064/60000]\n",
            "loss:1.660010 [38464/60000]\n",
            "loss:1.647122 [44864/60000]\n",
            "loss:1.614782 [51264/60000]\n",
            "loss:1.585675 [57664/60000]\n",
            "Test Error: \n",
            " Accuracy:60.8%, Avg loss:1.538354\n",
            "\n",
            "Epoch 3\n",
            "-----------------------------------------\n",
            "loss:1.533706 [   64/60000]\n",
            "loss:1.540708 [ 6464/60000]\n",
            "loss:1.524437 [12864/60000]\n",
            "loss:1.440670 [19264/60000]\n",
            "loss:1.388079 [25664/60000]\n",
            "loss:1.404597 [32064/60000]\n",
            "loss:1.352567 [38464/60000]\n",
            "loss:1.375909 [44864/60000]\n",
            "loss:1.356353 [51264/60000]\n",
            "loss:1.273744 [57664/60000]\n",
            "Test Error: \n",
            " Accuracy:63.9%, Avg loss:1.265493\n",
            "\n",
            "Epoch 4\n",
            "-----------------------------------------\n",
            "loss:1.233253 [   64/60000]\n",
            "loss:1.327335 [ 6464/60000]\n",
            "loss:1.212137 [12864/60000]\n",
            "loss:1.054950 [19264/60000]\n",
            "loss:1.016739 [25664/60000]\n",
            "loss:1.007049 [32064/60000]\n",
            "loss:1.202711 [38464/60000]\n",
            "loss:1.176213 [44864/60000]\n",
            "loss:1.066430 [51264/60000]\n",
            "loss:1.044055 [57664/60000]\n",
            "Test Error: \n",
            " Accuracy:65.2%, Avg loss:1.096215\n",
            "\n",
            "Epoch 5\n",
            "-----------------------------------------\n",
            "loss:1.138471 [   64/60000]\n",
            "loss:1.107490 [ 6464/60000]\n",
            "loss:1.012435 [12864/60000]\n",
            "loss:0.991987 [19264/60000]\n",
            "loss:1.053931 [25664/60000]\n",
            "loss:1.008588 [32064/60000]\n",
            "loss:1.036430 [38464/60000]\n",
            "loss:0.985884 [44864/60000]\n",
            "loss:1.034967 [51264/60000]\n",
            "loss:1.060591 [57664/60000]\n",
            "Test Error: \n",
            " Accuracy:66.7%, Avg loss:0.986852\n",
            "\n",
            "Epoch 6\n",
            "-----------------------------------------\n",
            "loss:1.060258 [   64/60000]\n",
            "loss:1.032858 [ 6464/60000]\n",
            "loss:0.863634 [12864/60000]\n",
            "loss:0.923769 [19264/60000]\n",
            "loss:1.015078 [25664/60000]\n",
            "loss:0.888366 [32064/60000]\n",
            "loss:1.058251 [38464/60000]\n",
            "loss:0.829015 [44864/60000]\n",
            "loss:0.861734 [51264/60000]\n",
            "loss:0.796661 [57664/60000]\n",
            "Test Error: \n",
            " Accuracy:68.0%, Avg loss:0.911861\n",
            "\n",
            "Epoch 7\n",
            "-----------------------------------------\n",
            "loss:0.894792 [   64/60000]\n",
            "loss:0.876476 [ 6464/60000]\n",
            "loss:0.993074 [12864/60000]\n",
            "loss:0.882329 [19264/60000]\n",
            "loss:0.810012 [25664/60000]\n",
            "loss:0.868279 [32064/60000]\n",
            "loss:0.907564 [38464/60000]\n",
            "loss:0.781686 [44864/60000]\n",
            "loss:0.887353 [51264/60000]\n",
            "loss:0.912764 [57664/60000]\n",
            "Test Error: \n",
            " Accuracy:69.2%, Avg loss:0.859014\n",
            "\n",
            "Epoch 8\n",
            "-----------------------------------------\n",
            "loss:0.779122 [   64/60000]\n",
            "loss:0.815015 [ 6464/60000]\n",
            "loss:0.936082 [12864/60000]\n",
            "loss:0.867620 [19264/60000]\n",
            "loss:0.822198 [25664/60000]\n",
            "loss:0.825553 [32064/60000]\n",
            "loss:0.614081 [38464/60000]\n",
            "loss:0.971775 [44864/60000]\n",
            "loss:0.712701 [51264/60000]\n",
            "loss:0.663852 [57664/60000]\n",
            "Test Error: \n",
            " Accuracy:69.9%, Avg loss:0.817605\n",
            "\n",
            "Epoch 9\n",
            "-----------------------------------------\n",
            "loss:0.743812 [   64/60000]\n",
            "loss:0.854654 [ 6464/60000]\n",
            "loss:0.992205 [12864/60000]\n",
            "loss:0.766933 [19264/60000]\n",
            "loss:0.764973 [25664/60000]\n",
            "loss:0.814201 [32064/60000]\n",
            "loss:0.941004 [38464/60000]\n",
            "loss:0.821540 [44864/60000]\n",
            "loss:0.867875 [51264/60000]\n",
            "loss:0.821250 [57664/60000]\n",
            "Test Error: \n",
            " Accuracy:71.4%, Avg loss:0.784068\n",
            "\n",
            "Epoch 10\n",
            "-----------------------------------------\n",
            "loss:0.944564 [   64/60000]\n",
            "loss:0.716041 [ 6464/60000]\n",
            "loss:0.725910 [12864/60000]\n",
            "loss:0.962628 [19264/60000]\n",
            "loss:0.681344 [25664/60000]\n",
            "loss:0.774149 [32064/60000]\n",
            "loss:0.713840 [38464/60000]\n",
            "loss:0.859859 [44864/60000]\n",
            "loss:0.748756 [51264/60000]\n",
            "loss:0.632676 [57664/60000]\n",
            "Test Error: \n",
            " Accuracy:72.5%, Avg loss:0.754896\n",
            "\n",
            "Epoch 11\n",
            "-----------------------------------------\n",
            "loss:0.783929 [   64/60000]\n",
            "loss:0.807874 [ 6464/60000]\n",
            "loss:0.747487 [12864/60000]\n",
            "loss:0.701137 [19264/60000]\n",
            "loss:0.796090 [25664/60000]\n",
            "loss:0.725633 [32064/60000]\n",
            "loss:0.776494 [38464/60000]\n",
            "loss:0.818642 [44864/60000]\n",
            "loss:0.694408 [51264/60000]\n",
            "loss:0.728941 [57664/60000]\n",
            "Test Error: \n",
            " Accuracy:73.8%, Avg loss:0.733626\n",
            "\n",
            "Epoch 12\n",
            "-----------------------------------------\n",
            "loss:0.704557 [   64/60000]\n",
            "loss:0.781849 [ 6464/60000]\n",
            "loss:0.865767 [12864/60000]\n",
            "loss:0.959301 [19264/60000]\n",
            "loss:0.867635 [25664/60000]\n",
            "loss:0.769498 [32064/60000]\n",
            "loss:0.644448 [38464/60000]\n",
            "loss:0.701497 [44864/60000]\n",
            "loss:0.518195 [51264/60000]\n",
            "loss:0.771384 [57664/60000]\n",
            "Test Error: \n",
            " Accuracy:74.8%, Avg loss:0.711541\n",
            "\n",
            "Epoch 13\n",
            "-----------------------------------------\n",
            "loss:0.769383 [   64/60000]\n",
            "loss:0.549464 [ 6464/60000]\n",
            "loss:0.644053 [12864/60000]\n",
            "loss:0.612846 [19264/60000]\n",
            "loss:0.684276 [25664/60000]\n",
            "loss:0.773376 [32064/60000]\n",
            "loss:0.620697 [38464/60000]\n",
            "loss:0.593284 [44864/60000]\n",
            "loss:0.744285 [51264/60000]\n",
            "loss:0.753855 [57664/60000]\n",
            "Test Error: \n",
            " Accuracy:75.8%, Avg loss:0.693601\n",
            "\n",
            "Epoch 14\n",
            "-----------------------------------------\n",
            "loss:0.597372 [   64/60000]\n",
            "loss:0.594124 [ 6464/60000]\n",
            "loss:0.695778 [12864/60000]\n",
            "loss:0.562939 [19264/60000]\n",
            "loss:0.597974 [25664/60000]\n",
            "loss:0.641626 [32064/60000]\n",
            "loss:0.593739 [38464/60000]\n",
            "loss:0.597514 [44864/60000]\n",
            "loss:0.742141 [51264/60000]\n",
            "loss:0.550953 [57664/60000]\n",
            "Test Error: \n",
            " Accuracy:76.4%, Avg loss:0.677351\n",
            "\n",
            "Epoch 15\n",
            "-----------------------------------------\n",
            "loss:0.754967 [   64/60000]\n",
            "loss:0.707634 [ 6464/60000]\n",
            "loss:0.683596 [12864/60000]\n",
            "loss:0.730678 [19264/60000]\n",
            "loss:0.718337 [25664/60000]\n",
            "loss:0.565570 [32064/60000]\n",
            "loss:0.518801 [38464/60000]\n",
            "loss:0.567976 [44864/60000]\n",
            "loss:0.519736 [51264/60000]\n",
            "loss:0.517081 [57664/60000]\n",
            "Test Error: \n",
            " Accuracy:76.7%, Avg loss:0.661244\n",
            "\n",
            "Epoch 16\n",
            "-----------------------------------------\n",
            "loss:0.686586 [   64/60000]\n",
            "loss:0.742840 [ 6464/60000]\n",
            "loss:0.621691 [12864/60000]\n",
            "loss:0.886233 [19264/60000]\n",
            "loss:0.575417 [25664/60000]\n",
            "loss:0.582768 [32064/60000]\n",
            "loss:0.673104 [38464/60000]\n",
            "loss:0.732406 [44864/60000]\n",
            "loss:0.724080 [51264/60000]\n",
            "loss:0.559008 [57664/60000]\n",
            "Test Error: \n",
            " Accuracy:77.5%, Avg loss:0.649599\n",
            "\n",
            "Epoch 17\n",
            "-----------------------------------------\n",
            "loss:0.581299 [   64/60000]\n",
            "loss:0.514313 [ 6464/60000]\n",
            "loss:0.689353 [12864/60000]\n",
            "loss:0.634280 [19264/60000]\n",
            "loss:0.579184 [25664/60000]\n",
            "loss:0.509295 [32064/60000]\n",
            "loss:0.499941 [38464/60000]\n",
            "loss:0.503599 [44864/60000]\n",
            "loss:0.592602 [51264/60000]\n",
            "loss:0.543955 [57664/60000]\n",
            "Test Error: \n",
            " Accuracy:78.1%, Avg loss:0.635728\n",
            "\n",
            "Epoch 18\n",
            "-----------------------------------------\n",
            "loss:0.507423 [   64/60000]\n",
            "loss:0.524996 [ 6464/60000]\n",
            "loss:0.604959 [12864/60000]\n",
            "loss:0.596590 [19264/60000]\n",
            "loss:0.499264 [25664/60000]\n",
            "loss:0.559738 [32064/60000]\n",
            "loss:0.579242 [38464/60000]\n",
            "loss:0.667681 [44864/60000]\n",
            "loss:0.714916 [51264/60000]\n",
            "loss:0.595774 [57664/60000]\n",
            "Test Error: \n",
            " Accuracy:78.5%, Avg loss:0.623629\n",
            "\n",
            "Epoch 19\n",
            "-----------------------------------------\n",
            "loss:0.539272 [   64/60000]\n",
            "loss:0.597812 [ 6464/60000]\n",
            "loss:0.537184 [12864/60000]\n",
            "loss:0.558100 [19264/60000]\n",
            "loss:0.545101 [25664/60000]\n",
            "loss:0.571592 [32064/60000]\n",
            "loss:0.497843 [38464/60000]\n",
            "loss:0.729482 [44864/60000]\n",
            "loss:0.479332 [51264/60000]\n",
            "loss:0.664214 [57664/60000]\n",
            "Test Error: \n",
            " Accuracy:78.8%, Avg loss:0.613176\n",
            "\n",
            "Epoch 20\n",
            "-----------------------------------------\n",
            "loss:0.529915 [   64/60000]\n",
            "loss:0.583540 [ 6464/60000]\n",
            "loss:0.926368 [12864/60000]\n",
            "loss:0.528020 [19264/60000]\n",
            "loss:0.867731 [25664/60000]\n",
            "loss:0.586960 [32064/60000]\n",
            "loss:0.546814 [38464/60000]\n",
            "loss:0.748790 [44864/60000]\n",
            "loss:0.545946 [51264/60000]\n",
            "loss:0.674394 [57664/60000]\n",
            "Test Error: \n",
            " Accuracy:79.2%, Avg loss:0.604136\n",
            "\n",
            "Done!\n"
          ]
        }
      ]
    }
  ]
}